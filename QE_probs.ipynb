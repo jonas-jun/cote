{
 "cells": [
  {
   "cell_type": "markdown",
   "metadata": {},
   "source": [
    "# Project1: Prime Num, Str"
   ]
  },
  {
   "cell_type": "markdown",
   "metadata": {},
   "source": [
    "## P1\n",
    "- 가위바위보 player1의 승리 횟수"
   ]
  },
  {
   "cell_type": "code",
   "execution_count": 1,
   "metadata": {},
   "outputs": [],
   "source": [
    "from typing import List\n",
    "\n",
    "def P1(game: List):\n",
    "    ans = 0\n",
    "    for g in game:\n",
    "        if len(set(g)) == 3 or len(set(g)) == 1: continue\n",
    "        if g[0] == 'R':\n",
    "            if 'P' not in g[1:]: ans += 1\n",
    "        elif g[0] == 'S':\n",
    "            if 'R' not in g[1:]: ans += 1\n",
    "        else:\n",
    "            if 'S' not in g[1:]: ans += 1\n",
    "    return ans"
   ]
  },
  {
   "cell_type": "code",
   "execution_count": 2,
   "metadata": {},
   "outputs": [
    {
     "name": "stdout",
     "output_type": "stream",
     "text": [
      "2\n",
      "3\n"
     ]
    }
   ],
   "source": [
    "print(P1([['R', 'S', 'P'],['R', 'R', 'S'],['S', 'P', 'P']])) # It is draw-win-win\n",
    "print(P1([['S', 'P', 'R'],['P', 'P', 'P'],['P', 'R', 'R'],['R', 'R', 'S'],['R', 'S', 'R']])) # It is draw-draw-win-win-win"
   ]
  },
  {
   "cell_type": "markdown",
   "metadata": {},
   "source": [
    "## P2\n",
    "- 2개의 소수로 나눠지는 수인지?"
   ]
  },
  {
   "cell_type": "code",
   "execution_count": 26,
   "metadata": {},
   "outputs": [],
   "source": [
    "def P2(n: int) -> bool:\n",
    "    num = 0\n",
    "    for i in range(2, int(n**(1/2))+1):\n",
    "        if n == 1: break\n",
    "        while n%i == 0:\n",
    "            n /= i\n",
    "            num += 1\n",
    "            if num > 2: return False\n",
    "    return num == 2"
   ]
  },
  {
   "cell_type": "code",
   "execution_count": 27,
   "metadata": {},
   "outputs": [
    {
     "name": "stdout",
     "output_type": "stream",
     "text": [
      "True\n",
      "False\n",
      "False\n",
      "False\n"
     ]
    }
   ],
   "source": [
    "print(P2(9))\n",
    "print(P2(12))\n",
    "print(P2(7))\n",
    "print(P2(60))"
   ]
  },
  {
   "cell_type": "markdown",
   "metadata": {},
   "source": [
    "## P3\n",
    "- 주민번호 앞 7자리"
   ]
  },
  {
   "cell_type": "code",
   "execution_count": 39,
   "metadata": {},
   "outputs": [],
   "source": [
    "def P3(info:list) -> str:        \n",
    "    s, y, m, d = info\n",
    "    if y >= 2000:\n",
    "        s_digit = 3 if s == 'MALE' else 4\n",
    "    else:\n",
    "        s_digit = 1 if s == 'MALE' else 2\n",
    "    return '{}{:02d}{:02d}{}'.format(str(y)[-2:], m, d, s_digit)\n"
   ]
  },
  {
   "cell_type": "code",
   "execution_count": 40,
   "metadata": {},
   "outputs": [
    {
     "name": "stdout",
     "output_type": "stream",
     "text": [
      "9610301\n",
      "0001024\n"
     ]
    }
   ],
   "source": [
    "print(P3(['MALE', 1996, 10, 30]))\n",
    "print(P3(['FEMALE', 2000, 1, 2]))\n"
   ]
  },
  {
   "cell_type": "markdown",
   "metadata": {},
   "source": [
    "# Project2: Queue, stack, LinkedList"
   ]
  },
  {
   "cell_type": "markdown",
   "metadata": {},
   "source": [
    "## P1 경로 단순화\n"
   ]
  },
  {
   "cell_type": "code",
   "execution_count": 3,
   "metadata": {},
   "outputs": [],
   "source": [
    "import re\n",
    "\n",
    "def P1(path: str):\n",
    "    '''\n",
    "    1. 모든 '//'를 '/'로 바꾼다.\n",
    "    2. '/'기준으로 split\n",
    "    3. stack을 만들어서 붙여주고, ..가 나오면 하나를 제거한다.(stack이 비어있지 않은 경우에만) .이 나오면 continue\n",
    "    4. 마지막에 '/'를 join하여 stack --> str을 만들고 앞에 '/'을 붙여서 return\n",
    "    '''\n",
    "\n",
    "    path = re.sub('//', '/', path)\n",
    "    path = path.split('/')\n",
    "    stack = list()\n",
    "    for p in path:\n",
    "        if not p: continue\n",
    "        if p == '.': continue\n",
    "        if p != '..':\n",
    "            stack.append(p)\n",
    "        else:\n",
    "            if stack: stack.pop()\n",
    "    return '/'+'/'.join(stack)"
   ]
  },
  {
   "cell_type": "code",
   "execution_count": 4,
   "metadata": {},
   "outputs": [
    {
     "name": "stdout",
     "output_type": "stream",
     "text": [
      "/home/foo\n",
      "/c\n"
     ]
    }
   ],
   "source": [
    "print(P1('/home//foo/'))\n",
    "print(P1('/a/./b/../../c/'))"
   ]
  },
  {
   "cell_type": "markdown",
   "metadata": {},
   "source": [
    "## P2 괄호 열고 닫기"
   ]
  },
  {
   "cell_type": "code",
   "execution_count": 16,
   "metadata": {},
   "outputs": [],
   "source": [
    "def P2(parentheses: str) -> bool:\n",
    "    check = {')': '(', ']': '[', '}': '{'}\n",
    "    stack = list()\n",
    "    for char in parentheses:\n",
    "        if char not in check: # 열리는 괄호라면\n",
    "            stack.append(char)\n",
    "        else: # 닫히는 괄호라면\n",
    "            if not stack or stack[-1] != check[char]:\n",
    "                return False\n",
    "            else: stack.pop()\n",
    "    return not stack\n"
   ]
  },
  {
   "cell_type": "code",
   "execution_count": 20,
   "metadata": {},
   "outputs": [
    {
     "name": "stdout",
     "output_type": "stream",
     "text": [
      "True\n",
      "False\n"
     ]
    }
   ],
   "source": [
    "print(P2('()[()]'))\n",
    "print(P2('([)]'))"
   ]
  },
  {
   "cell_type": "markdown",
   "metadata": {},
   "source": [
    "## P3 Singly linked list 정렬하기\n",
    "- 아마 저번에 봤던 졸시코테 2번 문제(?)인 거 같은데요.. 추가 메모리 안 쓰고 Linked List 정렬하기\n",
    "- merge sort 방식으로. (그냥 파일 저장해두고 가져다 쓰는 게 편할 듯..)\n"
   ]
  },
  {
   "cell_type": "code",
   "execution_count": 3,
   "metadata": {},
   "outputs": [],
   "source": [
    "from Project2.linked_list_helper import *\n",
    "\n",
    "def P3(head: ListNode) -> ListNode: \n",
    "\n",
    "    if head is None:\n",
    "        return None\n",
    "    if head.next is None:\n",
    "        return head\n",
    "    \n",
    "    # Find the number of nodes\n",
    "    cnt = 0\n",
    "    curr = head\n",
    "    midNode = head\n",
    "    while curr != None:\n",
    "        curr = curr.next        \n",
    "        cnt += 1\n",
    "\n",
    "    #Divide into left and right\n",
    "    mid = cnt // 2    \n",
    "    left= head\n",
    "    \n",
    "    curr = head\n",
    "    cnt = 0\n",
    "    while cnt < mid-1:\n",
    "        curr = curr.next\n",
    "        cnt += 1\n",
    "    right = curr.next\n",
    "    curr.next = None \n",
    "    \n",
    "    ##### Write your Code Here #####\n",
    "    def merge(root1, root2):\n",
    "        if root1.val >= root2.val:\n",
    "            head = root2\n",
    "            root2 = root2.next\n",
    "        else:\n",
    "            head = root1\n",
    "            root1 = root1.next\n",
    "        cur = head\n",
    "        while root1 and root2:\n",
    "            if root1.val >= root2.val:\n",
    "                cur.next = root2\n",
    "                cur = cur.next\n",
    "                root2 = root2.next\n",
    "            else:\n",
    "                cur.next = root1\n",
    "                cur = cur.next\n",
    "                root1 = root1.next\n",
    "        if root1:\n",
    "            cur.next = root1\n",
    "        if root2:\n",
    "            cur.next = root2\n",
    "        return head\n",
    "\n",
    "    head = merge(P3(left), P3(right))\n",
    "    return head"
   ]
  },
  {
   "cell_type": "code",
   "execution_count": 4,
   "metadata": {},
   "outputs": [
    {
     "name": "stdout",
     "output_type": "stream",
     "text": [
      "[1, 2, 3, 5, 6]\n"
     ]
    }
   ],
   "source": [
    "t1 = create_linked_list([2,3,1,6,5])\n",
    "print_linked_list(P3(t1), list())"
   ]
  },
  {
   "cell_type": "markdown",
   "metadata": {},
   "source": [
    "## P4 Singly Linked List 뒤집기"
   ]
  },
  {
   "cell_type": "code",
   "execution_count": 2,
   "metadata": {},
   "outputs": [],
   "source": [
    "from Project2.linked_list_helper import ListNode, create_linked_list, print_linked_list\n",
    "\n",
    "def P4(head: ListNode) -> ListNode:     \n",
    "    '''\n",
    "    1. node들을 stack에 append를 해주고\n",
    "    2. tail을 할당해두고\n",
    "    3. pop()을 해가면서 next로 연결\n",
    "    4. 마지막 노드는 None으로 연결 (중요)\n",
    "    ''' \n",
    "    if not head: return head\n",
    "    stack = list()\n",
    "    while head:\n",
    "        stack.append(head)\n",
    "        head = head.next\n",
    "    head = stack.pop()\n",
    "    cur = head\n",
    "    while stack:\n",
    "        cur.next = stack.pop()\n",
    "        cur = cur.next\n",
    "    cur.next = None\n",
    "    return head"
   ]
  },
  {
   "cell_type": "code",
   "execution_count": 35,
   "metadata": {},
   "outputs": [
    {
     "name": "stdout",
     "output_type": "stream",
     "text": [
      "[3, 1, 2, 4]\n"
     ]
    }
   ],
   "source": [
    "t1 = create_linked_list([4,2,1,3])\n",
    "print_linked_list(P4(t1), list())"
   ]
  },
  {
   "cell_type": "markdown",
   "metadata": {},
   "source": [
    "# Project3: Hash (Dict, Set)"
   ]
  },
  {
   "cell_type": "markdown",
   "metadata": {},
   "source": [
    "## P1: arr 원소 둘씩 짝지어 각각 합이 모두 k의 배수가 될 수 있는지?"
   ]
  },
  {
   "cell_type": "code",
   "execution_count": 19,
   "metadata": {},
   "outputs": [],
   "source": [
    "from collections import defaultdict\n",
    "from typing import List\n",
    "\n",
    "def P1(nums: List, k: int):\n",
    "    if sum(nums)%k != 0: return False\n",
    "    \n",
    "    counter = defaultdict(lambda: 0)\n",
    "    for num in nums:\n",
    "        counter[num % k] += 1\n",
    "    if counter[0] % 2 != 0: return False\n",
    "    if k % 2 == 0:\n",
    "        if counter[k/2] % 2 != 0: return False\n",
    "        for i in range(1, k//2):\n",
    "            if counter[i] != counter[k-1]: return False\n",
    "    else:\n",
    "        for i in range(1, k//2+1):\n",
    "            if counter[i] != counter[k-i]: return False\n",
    "\n",
    "    return True"
   ]
  },
  {
   "cell_type": "code",
   "execution_count": 56,
   "metadata": {},
   "outputs": [
    {
     "name": "stdout",
     "output_type": "stream",
     "text": [
      "True\n",
      "True\n"
     ]
    }
   ],
   "source": [
    "test1 = [123, 36, 54, 28, 39, 28]\n",
    "test2 = [3,7,6,5,4,5]\n",
    "\n",
    "print(P1(test1, 2))\n",
    "print(P1(test2, 5))"
   ]
  },
  {
   "cell_type": "markdown",
   "metadata": {},
   "source": [
    "## P2: 0,1의 개수가 같은 부분 list의 최대 길이\n",
    "- Dynamic Programing\n",
    "- dp[i]는 nums[i]가 마지막 원소로 포함된 부분 list 중 가장 긴 길이\n",
    "- Hash를 활용해서 풀라는데 그 방법은 모르겠어요.."
   ]
  },
  {
   "cell_type": "code",
   "execution_count": 20,
   "metadata": {},
   "outputs": [],
   "source": [
    "from typing import List\n",
    "def P2(nums: List):\n",
    "    dp = [0 for _ in range(len(nums))]\n",
    "    for i in range(1, len(nums)):\n",
    "        if nums[i] == nums[i-1]:\n",
    "            dp[i] = dp[i-1]+2 if i-dp[i-1]-1 >= 0 and nums[i] != nums[i-dp[i-1]-1] else 0\n",
    "        else:\n",
    "            dp[i] = dp[i-2]+2\n",
    "    return max(dp)"
   ]
  },
  {
   "cell_type": "code",
   "execution_count": 21,
   "metadata": {},
   "outputs": [
    {
     "name": "stdout",
     "output_type": "stream",
     "text": [
      "4\n",
      "2\n",
      "8\n"
     ]
    }
   ],
   "source": [
    "test1 = [1,1,0,1,0,1,1,1,0,1]\n",
    "test2 = [0,1,1,1,0,1,1,1,0]\n",
    "test3 = [1,1,1,1,0,0,0,0]\n",
    "\n",
    "print(P2(test1))\n",
    "print(P2(test2))\n",
    "print(P2(test3))"
   ]
  },
  {
   "cell_type": "markdown",
   "metadata": {},
   "source": [
    "## P3: 0,1로만 이뤄진 A,B가 주어지고, sum(A[i:j]) == sum(B[i:j])를 만족하는 j-i의 최대값 (최대 길이)\n",
    "- DP"
   ]
  },
  {
   "cell_type": "code",
   "execution_count": 24,
   "metadata": {},
   "outputs": [],
   "source": [
    "def P3(A:List, B:List):\n",
    "    diff = [A[i]-B[i] for i in range(len(A))]\n",
    "    dp = [0 for _ in range(len(diff))]\n",
    "\n",
    "    for i in range(len(dp)):\n",
    "        if diff[i] == 0: dp[i] = dp[i-1]+1\n",
    "        else:\n",
    "            temp1, temp2 = 0, 0\n",
    "            if i-dp[i-1]-1 >= 0 and diff[i] + diff[i-dp[i-1]-1] == 0:\n",
    "                temp1 = dp[i-1]+2\n",
    "            if diff[i] + diff[i-1] == 0:\n",
    "                temp2 = dp[i-2]+2\n",
    "            dp[i] = max(temp1, temp2)\n",
    "    return max(dp)"
   ]
  },
  {
   "cell_type": "code",
   "execution_count": 25,
   "metadata": {},
   "outputs": [
    {
     "name": "stdout",
     "output_type": "stream",
     "text": [
      "5\n",
      "6\n"
     ]
    }
   ],
   "source": [
    "A = [0,1,1,0,1,0,1,1,1]\n",
    "B = [0,0,0,1,0,1,0,1,0]\n",
    "print(P3(A, B))\n",
    "\n",
    "A = [0,0,0,0,0,1]\n",
    "B = [1,0,0,0,0,0]\n",
    "print(P3(A, B))"
   ]
  },
  {
   "cell_type": "markdown",
   "metadata": {},
   "source": [
    "## P4: 연속적인 수로 이뤄진 부분 List의 최대 길이"
   ]
  },
  {
   "cell_type": "code",
   "execution_count": 26,
   "metadata": {},
   "outputs": [],
   "source": [
    "def P4(nums: List):\n",
    "    nums = set(nums)\n",
    "    visited = set()\n",
    "    max_len = 1\n",
    "\n",
    "    for num in nums:\n",
    "        if num in visited: continue\n",
    "        cur = num-1\n",
    "        cur_len = 1\n",
    "        while cur in nums:\n",
    "            visited.add(cur)\n",
    "            cur_len += 1\n",
    "            cur -= 1\n",
    "        cur = num+1\n",
    "        while cur in nums:\n",
    "            visited.add(cur)\n",
    "            cur_len += 1\n",
    "            cur += 1\n",
    "        max_len = max(max_len, cur_len)\n",
    "    return max_len"
   ]
  },
  {
   "cell_type": "code",
   "execution_count": 27,
   "metadata": {},
   "outputs": [
    {
     "name": "stdout",
     "output_type": "stream",
     "text": [
      "4\n",
      "6\n",
      "1\n"
     ]
    }
   ],
   "source": [
    "t1 = [3,6,4,64,10,29,5,9,11]\n",
    "t2 = [-3,2,0,1,-2,-1]\n",
    "t3 = [-1,5,2,-6,8]\n",
    "print(P4(t1))\n",
    "print(P4(t2))\n",
    "print(P4(t3))"
   ]
  },
  {
   "cell_type": "markdown",
   "metadata": {},
   "source": [
    "# Project4: Binary Tree (미리 구현된 파일을 줘야 하는데.. 나올까요..?)"
   ]
  },
  {
   "cell_type": "markdown",
   "metadata": {},
   "source": [
    "## P1 Range sum of BST\n",
    "- BST에서 range 안에 속하는 value들의 합"
   ]
  },
  {
   "cell_type": "code",
   "execution_count": 54,
   "metadata": {},
   "outputs": [],
   "source": [
    "from Project4.BST_Helper import *\n",
    "\n",
    "def P1(root: TreeNode, low: int, high: int) -> int:     \n",
    "    ans = 0\n",
    "\n",
    "    def helper(root1):\n",
    "        nonlocal ans, low, high\n",
    "        if not root1: return\n",
    "        if root1.val in range(low, high+1): ans += root1.val\n",
    "        if high < root1.val: helper(root1.left)\n",
    "        elif low > root1.val: helper(root1.right)\n",
    "        else:\n",
    "            helper(root1.left)\n",
    "            helper(root1.right)\n",
    "    helper(root)\n",
    "    return ans\n"
   ]
  },
  {
   "cell_type": "code",
   "execution_count": 55,
   "metadata": {},
   "outputs": [
    {
     "name": "stdout",
     "output_type": "stream",
     "text": [
      "15\n",
      "23\n"
     ]
    }
   ],
   "source": [
    "root = create_linked_bst([10,5,15,3,7, 9, 18])\n",
    "print(P1(root, 3, 9))\n",
    "root = create_linked_bst ([10,5,15,3,7,13,18,1,None,6])\n",
    "print(P1(root, 6, 10))"
   ]
  },
  {
   "cell_type": "markdown",
   "metadata": {},
   "source": [
    "## P2 Binary Tree Level Order Traversal"
   ]
  },
  {
   "cell_type": "code",
   "execution_count": 72,
   "metadata": {},
   "outputs": [],
   "source": [
    "from Project4.BST_Helper import *\n",
    "from typing import List\n",
    "\n",
    "def P2(root: TreeNode) -> List[List[int]]:\n",
    "    ans = list()\n",
    "    def helper(node_list:List):\n",
    "        nonlocal ans\n",
    "        if not node_list: return\n",
    "        cur_level = list()\n",
    "        next_nodes = list()\n",
    "        for node in node_list:\n",
    "            if node:\n",
    "                cur_level.append(node.val)\n",
    "        #ans.append(cur_level)\n",
    "        for node in node_list:\n",
    "            if node:\n",
    "                next_nodes.append(node.left)\n",
    "                next_nodes.append(node.right)\n",
    "        helper(next_nodes)\n",
    "        ans.append(cur_level) # 여기서 cur_level을 붙여주면 아래쪽부터 append가 됨! 다만 위에서 붙여주고 마지막에 뒤집어주는 게 이해하기는 편한 듯\n",
    "    \n",
    "    helper([root])\n",
    "    return ans[1:]"
   ]
  },
  {
   "cell_type": "code",
   "execution_count": 73,
   "metadata": {},
   "outputs": [
    {
     "name": "stdout",
     "output_type": "stream",
     "text": [
      "[[15, 7], [9, 20], [3]]\n",
      "[[3, 7, 18], [5, 15], [10]]\n"
     ]
    }
   ],
   "source": [
    "root = create_linked_bst ([3,9,20,None,None,15,7])\n",
    "print(P2(root))\n",
    "root = create_linked_bst([10,5,15,3,7,None,18])\n",
    "print(P2(root))"
   ]
  },
  {
   "cell_type": "markdown",
   "metadata": {},
   "source": [
    "# Project5: 완전탐색 BFS, DFS"
   ]
  },
  {
   "cell_type": "markdown",
   "metadata": {},
   "source": [
    "## P1\n",
    "- 방귀를 채우는 문제\n",
    "- visited 대신 room에 직접 1을 채워가는 방식\n",
    "- level 단위 BFS"
   ]
  },
  {
   "cell_type": "code",
   "execution_count": 51,
   "metadata": {},
   "outputs": [],
   "source": [
    "def P1(room):\n",
    "    '''\n",
    "    multi-source BFS를 도는데, level 단위로 sec를 올려줘야 함\n",
    "    아래 코드는 좋은 코드가 아니..\n",
    "    '''\n",
    "    M, N = len(room), len(room[0])\n",
    "    ones = list()\n",
    "    for i in range(M):\n",
    "        for j in range(N):\n",
    "            if room[i][j] == 1:\n",
    "                ones.append((i,j))\n",
    "    queue = [ones] # 첫 레벨\n",
    "    sec = 0\n",
    "    while queue[0]:\n",
    "        next_lev = list()\n",
    "        cur_lev = queue.pop()\n",
    "        for loc in cur_lev:\n",
    "            i, j = loc\n",
    "            for loc1 in [(i+1, j), (i-1, j), (i, j+1), (i, j-1)]:\n",
    "                if 0<=loc1[0]<M and 0<=loc1[1]<N and room[loc1[0]][loc1[1]]==0:\n",
    "                    room[loc1[0]][loc1[1]] = 1\n",
    "                    next_lev.append(loc1)  \n",
    "        sec += 1 # 한 레벨이 다 돌면 sec += 1\n",
    "        queue.append(next_lev) # 다음 레벨을 list 통째로 append\n",
    "    \n",
    "    for line in room:\n",
    "        if not all(line): return -1 # 0이 하나라도 있으면 다 채우지 못한 경우\n",
    "    return sec-1"
   ]
  },
  {
   "cell_type": "code",
   "execution_count": 53,
   "metadata": {},
   "outputs": [
    {
     "name": "stdout",
     "output_type": "stream",
     "text": [
      "-1\n",
      "14\n"
     ]
    }
   ],
   "source": [
    "print(P1([[ 0,-1,0,0,0,0],\n",
    "        [-1, 0,0,0,0,0],\n",
    "        [ 0, 0,0,0,0,0],\n",
    "        [ 0, 0,0,0,0,1]]))\n",
    "\n",
    "print(P1([[-1,1, 0, 0,0],\n",
    "        [0,-1,-1,-1,0],\n",
    "        [0,-1,-1,-1,0],\n",
    "        [0,-1,-1,-1,0],\n",
    "        [0, 0, 0, 0,0]]))"
   ]
  },
  {
   "cell_type": "markdown",
   "metadata": {},
   "source": [
    "## P2\n",
    "- FB cluster에 속하는 회원 수\n",
    "- 최단 거리는 BFS가 좋은데 이건 탐색만 한번 다 하면 되는 거니까 DFS로 간단하게"
   ]
  },
  {
   "cell_type": "code",
   "execution_count": 69,
   "metadata": {},
   "outputs": [],
   "source": [
    "from collections import defaultdict\n",
    "\n",
    "def P2(n, edges):\n",
    "    if not edges: return 1\n",
    "    # dict 형태의 그래프 만들기\n",
    "    graph = defaultdict(lambda: list())\n",
    "    for edge in edges:\n",
    "        graph[edge[0]].append(edge[1])\n",
    "        graph[edge[1]].append(edge[0])\n",
    "    visited = set()\n",
    "    cnt = 0\n",
    "    def dfs_helper(root):\n",
    "        nonlocal graph, cnt, visited\n",
    "        if root in visited: return\n",
    "        visited.add(root)\n",
    "        cnt += 1\n",
    "        for person in graph[root]:\n",
    "            dfs_helper(person)\n",
    "    dfs_helper(1)\n",
    "    return cnt\n"
   ]
  },
  {
   "cell_type": "code",
   "execution_count": 71,
   "metadata": {},
   "outputs": [
    {
     "name": "stdout",
     "output_type": "stream",
     "text": [
      "5\n",
      "1\n",
      "2\n"
     ]
    }
   ],
   "source": [
    "print(P2(7, [(1, 2), (2,3), (1,5), (5, 2), (5, 6), (4, 7)]))\n",
    "print(P2(1, []))\n",
    "print(P2(4, [(1, 2), (2, 1)]))"
   ]
  },
  {
   "cell_type": "markdown",
   "metadata": {},
   "source": [
    "## P3\n",
    "- 섬의 개수: 간단한 DFS"
   ]
  },
  {
   "cell_type": "code",
   "execution_count": 60,
   "metadata": {},
   "outputs": [],
   "source": [
    "def P3(world):\n",
    "    M, N = len(world), len(world[0]) # M이 세로, N이 가로\n",
    "    visited = [[False for _ in range(N)] for _ in range(M)]\n",
    "    ans = 0\n",
    "    def dfs_helper(root):\n",
    "        nonlocal ans, world, visited, M, N\n",
    "        i,j = root[0], root[1]\n",
    "        if not 0<=i<M: return\n",
    "        if not 0<=j<N: return\n",
    "        if not world[i][j]: return\n",
    "        if visited[i][j]: return\n",
    "\n",
    "        visited[i][j] = True\n",
    "\n",
    "        dfs_helper((i+1, j))\n",
    "        dfs_helper((i-1, j))\n",
    "        dfs_helper((i, j+1))\n",
    "        dfs_helper((i, j-1))\n",
    "    \n",
    "    for i in range(M):\n",
    "        for j in range(N):\n",
    "            if world[i][j] and not visited[i][j]:\n",
    "                dfs_helper((i,j))\n",
    "                ans += 1\n",
    "    return ans"
   ]
  },
  {
   "cell_type": "code",
   "execution_count": 61,
   "metadata": {},
   "outputs": [
    {
     "name": "stdout",
     "output_type": "stream",
     "text": [
      "3\n",
      "1\n"
     ]
    }
   ],
   "source": [
    "print(P3([[1,1,0,0,0],\n",
    "        [1,1,0,0,0],\n",
    "        [0,0,1,1,0],\n",
    "        [0,0,0,0,1]]))\n",
    "\n",
    "print(P3([[1,1,1,1,1],\n",
    "        [1,1,1,1,1],\n",
    "        [1,1,1,1,1],\n",
    "        [1,1,1,1,1]]))"
   ]
  },
  {
   "cell_type": "markdown",
   "metadata": {},
   "source": [
    "## P4\n",
    "- 보물의 위치 찾기 (특정 지점에 가장 빨리 도달하는 시간)\n",
    "- 최단거리는 BFS인데 범위를 잘 한정해줘야 함!"
   ]
  },
  {
   "cell_type": "code",
   "execution_count": 26,
   "metadata": {},
   "outputs": [],
   "source": [
    "def P4(L, T):\n",
    "    if L==T: return 0\n",
    "    queue = [[L]]\n",
    "    sec = 0\n",
    "    visited = set()\n",
    "    while queue[0]:\n",
    "        cur_lev = queue.pop()\n",
    "        next_lev = list()\n",
    "        for loc in cur_lev:\n",
    "            togo = list(filter(lambda x: x not in visited and x <= 100000, [loc-1, loc+1, loc*2]))\n",
    "            if T in togo: return sec+1\n",
    "            next_lev += togo\n",
    "            for t in togo:\n",
    "                visited.add(t)\n",
    "        queue.append(next_lev)\n",
    "        sec += 1"
   ]
  },
  {
   "cell_type": "code",
   "execution_count": 28,
   "metadata": {},
   "outputs": [
    {
     "name": "stdout",
     "output_type": "stream",
     "text": [
      "4\n",
      "7\n",
      "0\n",
      "36\n"
     ]
    }
   ],
   "source": [
    "print(P4(5, 17))\n",
    "print(P4(8, 1))\n",
    "print(P4(100, 100))\n",
    "print(P4(123, 12345))"
   ]
  },
  {
   "cell_type": "markdown",
   "metadata": {},
   "source": [
    "# 중간고사"
   ]
  },
  {
   "cell_type": "markdown",
   "metadata": {},
   "source": [
    "## 8번: str s에서 첫번째 uniq char의 index를 return"
   ]
  },
  {
   "cell_type": "code",
   "execution_count": 1,
   "metadata": {},
   "outputs": [],
   "source": [
    "def firstUniq(s: str):\n",
    "    # build counter\n",
    "    counter = dict()\n",
    "    for char in s:\n",
    "        if char in counter: counter[char]+=1\n",
    "        else: counter[char]=1\n",
    "    # get first char, count==1\n",
    "    first_uniq = False\n",
    "    for char in counter:\n",
    "        if counter[char]==1:\n",
    "            first_uniq = char\n",
    "            break\n",
    "    if not first_uniq: return -1\n",
    "    # return index of first_uniq\n",
    "    for idx in range(len(s)):\n",
    "        if s[idx] == first_uniq: return idx    \n"
   ]
  },
  {
   "cell_type": "code",
   "execution_count": 2,
   "metadata": {},
   "outputs": [
    {
     "name": "stdout",
     "output_type": "stream",
     "text": [
      "4\n",
      "-1\n"
     ]
    }
   ],
   "source": [
    "t1 = 'llooveeprogram'\n",
    "t2 = 'kaakliil'\n",
    "\n",
    "print(firstUniq(t1))\n",
    "print(firstUniq(t2))"
   ]
  },
  {
   "cell_type": "markdown",
   "metadata": {},
   "source": [
    "## 9번: #은 backspace를 의미할 때, str S와 T가 같은지 파악\n",
    "- stack"
   ]
  },
  {
   "cell_type": "code",
   "execution_count": 3,
   "metadata": {},
   "outputs": [],
   "source": [
    "def backspaceCompare(S: str, T: str) -> bool:\n",
    "    def check_sharp(s:str):\n",
    "        stack = list()\n",
    "        for char in s:\n",
    "            if char != '#':\n",
    "                stack.append(char)\n",
    "            else:\n",
    "                if stack: stack.pop()\n",
    "        return stack\n",
    "    return check_sharp(S)==check_sharp(T)"
   ]
  },
  {
   "cell_type": "code",
   "execution_count": 4,
   "metadata": {},
   "outputs": [
    {
     "name": "stdout",
     "output_type": "stream",
     "text": [
      "True\n",
      "False\n",
      "True\n"
     ]
    }
   ],
   "source": [
    "t1_s, t1_t = 'ab#c', 'ad#c'\n",
    "t2_s, t2_t = 'a#c', 'b'\n",
    "t3_s, t3_t = 'a###b', 'cd##b'\n",
    "\n",
    "print(backspaceCompare(t1_s, t1_t))\n",
    "print(backspaceCompare(t2_s, t2_t))\n",
    "print(backspaceCompare(t3_s, t3_t))"
   ]
  },
  {
   "cell_type": "markdown",
   "metadata": {},
   "source": [
    "# Singly Linked List with Sentinel"
   ]
  },
  {
   "cell_type": "code",
   "execution_count": 1,
   "metadata": {},
   "outputs": [],
   "source": [
    "class LinkedNode():\n",
    "    def __init__(self, x):\n",
    "        self.val = x\n",
    "        self.next = None  # A special variable for linking to another node"
   ]
  },
  {
   "cell_type": "code",
   "execution_count": 18,
   "metadata": {},
   "outputs": [],
   "source": [
    "class SLLIST:\n",
    "    def __init__(self) -> None:\n",
    "        self.sentinel = LinkedNode(0)\n",
    "        self.sentinel.next = self.sentinel\n",
    "        self.size = 0\n",
    "    \n",
    "    def addFirst(self, x: int) -> None:\n",
    "        newFirst = LinkedNode(x)\n",
    "        newFirst.next = self.sentinel.next\n",
    "        self.sentinel.next = newFirst\n",
    "        self.size += 1\n",
    "    \n",
    "    def getFirst(self) -> int:\n",
    "        if self.sentinel.next: return self.sentinel.next.val\n",
    "        return None\n",
    "\n",
    "    def getSize(self):\n",
    "        return self.size\n",
    "\n",
    "    def append(self, x: int) -> None:\n",
    "        self.size += 1\n",
    "        curNode = self.sentinel.next\n",
    "        while curNode.next != self.sentinel:\n",
    "            curNode = curNode.next\n",
    "        curNode.next = LinkedNode(x)\n",
    "        curNode.next.next = self.sentinel"
   ]
  },
  {
   "cell_type": "markdown",
   "metadata": {},
   "source": [
    "# BootCamp"
   ]
  },
  {
   "cell_type": "markdown",
   "metadata": {},
   "source": [
    "## HW1 Q2. 수 많은 소수\n",
    "- 1과 N 사이의 소수의 개수\n",
    "- 에라토스테네스의 체"
   ]
  },
  {
   "cell_type": "code",
   "execution_count": 31,
   "metadata": {},
   "outputs": [],
   "source": [
    "def hw1(n: int):\n",
    "    if n == 1: return 0\n",
    "    ans = [False, False] + [True for _ in range(n-1)]\n",
    "    for num in range(2, int(n**(1/2))+1):\n",
    "        if not ans[num]: continue\n",
    "        i = 2\n",
    "        while num*i <= n:\n",
    "            ans[num*i] = False\n",
    "            i += 1\n",
    "    print(ans)\n",
    "    return sum(ans)"
   ]
  },
  {
   "cell_type": "markdown",
   "metadata": {},
   "source": [
    "## HW2 Q4. 중복된 숫자 찾기\n",
    "- 1 이상 n 이하 정수로 구성된 n+1 길이 List를 받아서 중복으로 등장하는 숫자를 찾아라."
   ]
  },
  {
   "cell_type": "code",
   "execution_count": 36,
   "metadata": {},
   "outputs": [],
   "source": [
    "from typing import List\n",
    "\n",
    "def hw2_4(nums: List[int]):\n",
    "    check = set()\n",
    "    for num in nums:\n",
    "        if num in check: return num\n",
    "        check.add(num)"
   ]
  },
  {
   "cell_type": "code",
   "execution_count": 39,
   "metadata": {},
   "outputs": [
    {
     "name": "stdout",
     "output_type": "stream",
     "text": [
      "3\n"
     ]
    }
   ],
   "source": [
    "print(hw2_4([3,5,1,2,3,4]))"
   ]
  },
  {
   "cell_type": "markdown",
   "metadata": {},
   "source": [
    "## HW4 "
   ]
  },
  {
   "cell_type": "code",
   "execution_count": 75,
   "metadata": {},
   "outputs": [],
   "source": [
    "class TreeNode:\n",
    "    def __init__(self, val=0, left=None, right=None):\n",
    "        self.val = val\n",
    "        self.left = left\n",
    "        self.right = right\n",
    "    def printTree(self) -> list:\n",
    "        result = list()\n",
    "        thislevel = [self]\n",
    "        while thislevel:\n",
    "            nextlevel = list()\n",
    "            for n in thislevel:\n",
    "                if n.val != None: result.append(n.val)\n",
    "                if n.left: nextlevel.append(n.left)\n",
    "                if n.right: nextlevel.append(n.right)\n",
    "            thislevel = nextlevel\n",
    "        return result\n",
    "\n",
    "from collections import deque\n",
    "def create_linked_bst(arr: list) -> TreeNode:\n",
    "    '''\n",
    "    [3,4,5]\n",
    "    '''\n",
    "    if len(arr) < 1: return None\n",
    "    n = iter(arr)\n",
    "    tree = TreeNode(next(n)) # TreeNode(3)\n",
    "    fringe = deque([tree]) # [3]\n",
    "    while True:\n",
    "        head = fringe.popleft() # 3\n",
    "        try:\n",
    "            l = next(n) # 4\n",
    "            head.left = TreeNode(l) if l != None else None # 3.left = 4\n",
    "            fringe.append(head.left) # [4]\n",
    "            r = next(n)\n",
    "            head.right = TreeNode(r) if r != None else None\n",
    "            fringe.append(head.right) # [4,5]\n",
    "        except StopIteration:\n",
    "            break\n",
    "    return tree # 3, 4(left), 5(right)\n",
    "def sortedArray2BST(nums):\n",
    "    def convert(left, right):\n",
    "        if left > right:\n",
    "            return None\n",
    "        mid = (left + right) // 2\n",
    "        node = TreeNode(nums[mid])\n",
    "        node.left = convert(left, mid - 1)\n",
    "        node.right = convert(mid + 1, right)\n",
    "        return node\n",
    "    return convert(0, len(nums) - 1)\n",
    "\n",
    "def printP1(arr: list, low:int, high:int):\n",
    "    root = create_linked_bst(arr)\n",
    "    ans = hw4_P1(root, low, high)\n",
    "    print(ans)\n",
    "    #return ans\n",
    "    \n",
    "def printP2(arr: list, key:int):\n",
    "    root = create_linked_bst(arr)\n",
    "    root = hw4_P2(root, key)\n",
    "    ans = root.printTree()\n",
    "    print(ans)\n",
    "    #return ans"
   ]
  },
  {
   "cell_type": "code",
   "execution_count": 76,
   "metadata": {},
   "outputs": [],
   "source": [
    "def hw4_P1(root: TreeNode, low, high):\n",
    "    ans = 0\n",
    "\n",
    "    def helper(node: TreeNode):\n",
    "        nonlocal ans, low, high\n",
    "        if not node: return\n",
    "        if node.val < low:\n",
    "            helper(node.right)\n",
    "        elif node.val > high:\n",
    "            helper(node.left)\n",
    "        else:\n",
    "            ans += node.val\n",
    "            helper(node.left)\n",
    "            helper(node.right)\n",
    "    helper(root)\n",
    "    return ans"
   ]
  },
  {
   "cell_type": "code",
   "execution_count": 77,
   "metadata": {},
   "outputs": [
    {
     "name": "stdout",
     "output_type": "stream",
     "text": [
      "32\n",
      "23\n"
     ]
    }
   ],
   "source": [
    "printP1([10,5,15,3,7,None,18],7,15)\n",
    "printP1([10,5,15,3,7,13,18,1,None,6],6,10)"
   ]
  },
  {
   "cell_type": "code",
   "execution_count": 93,
   "metadata": {},
   "outputs": [],
   "source": [
    "def hw4_P2(root: TreeNode, key: int):\n",
    "    if not root: return root\n",
    "    if root.val == key:\n",
    "        if not root.right: return root.left\n",
    "        # 해결 못함 아직 \n",
    "            \n",
    "    def helper(node):\n",
    "        nonlocal key\n",
    "        if not node: return\n",
    "        if node.val > key:\n",
    "            if node.left and node.left.val == key:\n",
    "                temp = node.left.right\n",
    "                if temp:\n",
    "                    temp.left = node.left.left\n",
    "                node.left = temp\n",
    "                return\n",
    "            helper(node.left)\n",
    "        elif node.val < key:\n",
    "            if node.right and node.right.val == key:\n",
    "                temp = node.right.right\n",
    "                if temp:\n",
    "                    temp.left = node.right.left\n",
    "                node.right = temp\n",
    "                return\n",
    "            helper(node.right)\n",
    "    helper(root)\n",
    "    return root"
   ]
  },
  {
   "cell_type": "code",
   "execution_count": 94,
   "metadata": {},
   "outputs": [
    {
     "name": "stdout",
     "output_type": "stream",
     "text": [
      "[5, 4, 6, 2, 7]\n",
      "[5, 3, 6, 2, 4, 7]\n",
      "[5, 3, 6, 2, 4]\n",
      "[5, 3, 6, 2, 4, 7]\n"
     ]
    }
   ],
   "source": [
    "printP2([5,3,6,2,4,None,7], 3)\n",
    "printP2([5,3,6,2,4,None,7], 0)\n",
    "printP2([5,3,6,2,4,None,7], 7)\n",
    "printP2([5,3,6,2,4,None,7], 5)"
   ]
  },
  {
   "cell_type": "code",
   "execution_count": null,
   "metadata": {},
   "outputs": [],
   "source": []
  }
 ],
 "metadata": {
  "kernelspec": {
   "display_name": "Python 3.8.5 64-bit ('dl': conda)",
   "name": "python385jvsc74a57bd09114398d3377058e256d145c4f0a9a491a4d18df42e17efa052a1448852ae6e3"
  },
  "language_info": {
   "name": "python",
   "version": ""
  },
  "orig_nbformat": 2
 },
 "nbformat": 4,
 "nbformat_minor": 2
}