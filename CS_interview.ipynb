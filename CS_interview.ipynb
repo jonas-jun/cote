{
 "cells": [
  {
   "cell_type": "markdown",
   "metadata": {},
   "source": [
    "# Binary Search\n",
    "\n",
    "Return 조건:\n",
    "- start > end: target이 없다.\n",
    "- mid_val == target: return True\n",
    "\n",
    "Sort 후 search 이기 때문에 O(nlogn)  \n",
    "그냥 search는 O(n)이기 때문에 조금만 찾을 때는 Linear Search가 더 좋을 수 있다."
   ]
  },
  {
   "cell_type": "code",
   "execution_count": 2,
   "metadata": {},
   "outputs": [],
   "source": [
    "def BinarySearch(arr, target):\n",
    "\n",
    "    def helper(s, e):\n",
    "        nonlocal arr, target\n",
    "        if s>e: return -1\n",
    "        mid_idx = (s+e)//2\n",
    "        mid_val = arr[mid_idx][1]\n",
    "        if mid_val == target: return arr[mid_idx][0]\n",
    "        if mid_val > target:\n",
    "            return helper(s, mid_idx-1)\n",
    "        else:\n",
    "            return helper(mid_idx+1, e)\n",
    "    \n",
    "    arr = sorted(enumerate(arr), key=lambda x: x[1])\n",
    "    return helper(0, len(arr)-1)\n",
    "        "
   ]
  },
  {
   "cell_type": "code",
   "execution_count": 3,
   "metadata": {},
   "outputs": [
    {
     "data": {
      "text/plain": "-1"
     },
     "execution_count": 3,
     "metadata": {},
     "output_type": "execute_result"
    }
   ],
   "source": [
    "arr1 = [6,1,2,0,9,9,3,4,5]\n",
    "target1 = 10\n",
    "\n",
    "BinarySearch(arr1, target1)"
   ]
  },
  {
   "cell_type": "markdown",
   "metadata": {},
   "source": [
    "# Sort\n",
    "1. Insertion Sort\n",
    "2. Selection Sort\n",
    "3. Merge Sort\n",
    "4. Quick Sort\n",
    "5. Bubble Sort\n",
    "6. Counting Sort"
   ]
  },
  {
   "cell_type": "code",
   "execution_count": 4,
   "metadata": {},
   "outputs": [],
   "source": [
    "test = [15, 40, 10, 95, 80, 82, 90, 67, 82]"
   ]
  },
  {
   "cell_type": "markdown",
   "metadata": {},
   "source": [
    "## Insertion Sort\n",
    "1번 idx부터 돌면서 왼쪽 적절한 자리에 꽂아넣기"
   ]
  },
  {
   "cell_type": "code",
   "execution_count": 5,
   "metadata": {},
   "outputs": [],
   "source": [
    "def insertion(arr):\n",
    "    for idx in range(1, len(arr)):\n",
    "        cur = idx\n",
    "        while cur > 0 and arr[cur] < arr[cur-1]:\n",
    "            arr[cur], arr[cur-1] = arr[cur-1], arr[cur]\n",
    "            cur -= 1\n",
    "    return arr"
   ]
  },
  {
   "cell_type": "code",
   "execution_count": 6,
   "metadata": {},
   "outputs": [
    {
     "name": "stdout",
     "output_type": "stream",
     "text": [
      "[10, 15, 40, 67, 80, 82, 82, 90, 95]\n"
     ]
    }
   ],
   "source": [
    "print(insertion(test[:]))"
   ]
  },
  {
   "cell_type": "markdown",
   "metadata": {},
   "source": [
    "## Selection Sort\n",
    "1번 idx부터 돌면서 오른쪽에서 가장 작은 수를 찾아서 1번과 자리 바꿔주기"
   ]
  },
  {
   "cell_type": "code",
   "execution_count": 7,
   "metadata": {},
   "outputs": [],
   "source": [
    "def selection(arr):\n",
    "    for idx in range(len(arr)-1):\n",
    "        # find smallest\n",
    "        min_idx = idx\n",
    "        min_val = arr[idx]\n",
    "        for j in range(idx, len(arr)):\n",
    "            if arr[j] < min_val:\n",
    "                min_idx = j\n",
    "                min_val = arr[j]\n",
    "        arr[idx], arr[min_idx] = arr[min_idx], arr[idx]\n",
    "    return arr"
   ]
  },
  {
   "cell_type": "code",
   "execution_count": 8,
   "metadata": {},
   "outputs": [
    {
     "name": "stdout",
     "output_type": "stream",
     "text": [
      "[10, 15, 40, 67, 80, 82, 82, 90, 95]\n"
     ]
    }
   ],
   "source": [
    "print(selection(test[:]))"
   ]
  },
  {
   "cell_type": "markdown",
   "metadata": {},
   "source": [
    "## Merge Sort"
   ]
  },
  {
   "cell_type": "code",
   "execution_count": 9,
   "metadata": {},
   "outputs": [],
   "source": [
    "def merge(left, right):\n",
    "    i, j = 0, 0\n",
    "    merged = list()\n",
    "    while i < len(left) and j < len(right):\n",
    "        if left[i] <= right[j]:\n",
    "            merged.append(left[i])\n",
    "            i += 1\n",
    "        else:\n",
    "            merged.append(right[j])\n",
    "            j += 1\n",
    "    if i < len(left):\n",
    "        merged += left[i:]\n",
    "    if j < len(right):\n",
    "        merged += right[j:]\n",
    "    return merged\n",
    "\n",
    "def merge_sort(arr):\n",
    "    if len(arr) <= 1:\n",
    "        return arr\n",
    "    mid_idx = len(arr)//2\n",
    "    return merge(merge_sort(arr[:mid_idx]), merge_sort(arr[mid_idx:]))\n"
   ]
  },
  {
   "cell_type": "code",
   "execution_count": 10,
   "metadata": {},
   "outputs": [
    {
     "name": "stdout",
     "output_type": "stream",
     "text": [
      "[10, 15, 40, 67, 80, 82, 82, 90, 95]\n"
     ]
    }
   ],
   "source": [
    "print(merge_sort(test[:]))"
   ]
  },
  {
   "cell_type": "markdown",
   "metadata": {},
   "source": [
    "## Quick Sort\n",
    "pivot을 구해서 작은 것은 왼쪽, 큰 것은 오른쪽에 배치  \n",
    "inplace 방식으로도 정렬할 수 있다는 것이 장점"
   ]
  },
  {
   "cell_type": "code",
   "execution_count": 44,
   "metadata": {},
   "outputs": [],
   "source": [
    "def quick_sort(arr):\n",
    "    if len(arr)<=1: return arr\n",
    "    mid_idx = len(arr)//2\n",
    "    pivot = arr[mid_idx]\n",
    "\n",
    "    left, right = list(), list()\n",
    "    for i in range(len(arr)):\n",
    "        if i == mid_idx: continue\n",
    "        if arr[i] <= pivot:\n",
    "            left.append(arr[i])\n",
    "        else:\n",
    "            right.append(arr[i])\n",
    "    return quick_sort(left)+[pivot]+quick_sort(right)\n"
   ]
  },
  {
   "cell_type": "code",
   "execution_count": 1,
   "metadata": {},
   "outputs": [],
   "source": [
    "def partition(L: list, first: int, last: int, pi_idx: int) -> int:\n",
    "    pi = L[pi_idx]\n",
    "    i, j = first, last\n",
    "\n",
    "    # Scan and swap\n",
    "    while i < j:\n",
    "        # left partition scan\n",
    "        while i <= last and L[i] <= pi:\n",
    "            i += 1\n",
    "        # right partition scan\n",
    "        while j >= first and L[j] >= pi:\n",
    "            j -= 1\n",
    "            \n",
    "        # Now time to swap!\n",
    "        if i < j:\n",
    "            L[i], L[j] = L[j], L[i]\n",
    "    \n",
    "    # Check where pivot is now (left vs. right parition)\n",
    "    if pi_idx < i:\n",
    "        i -= 1\n",
    "    # Change pivot location (rightend of left partition or leftend of right partition)\n",
    "    L[pi_idx], L[i] = L[i], L[pi_idx]\n",
    "    return i\n",
    "\n",
    "    \n",
    "def piSelect(L: list, first: int, last: int) -> int:\n",
    "    med = first + (last-first)//2\n",
    "    \n",
    "    if L[first] > L[med]:\n",
    "        L[first], L[med] = L[med], L[first]\n",
    "    if L[first] > L[last]:\n",
    "        L[first], L[last] = L[last], L[first]\n",
    "    if L[med] > L[last]:\n",
    "        L[med], L[last] = L[last], L[med]\n",
    "        \n",
    "    return med\n",
    "\n",
    "def partitionSort(L: list, first: int, last: int) -> None:\n",
    "    if first >= last: # Check condition\n",
    "        return # Base case\n",
    "    \n",
    "    else: \n",
    "        # Recursive case\n",
    "        pi_idx = piSelect(L, first, last)\n",
    "        pi_idx = partition(L, first, last, pi_idx)\n",
    "        # pivot is now at the right place\n",
    "        partitionSort(L, first, pi_idx-1) # Sort the left partition\n",
    "        partitionSort(L, pi_idx+1, last)  # Sort the right partition\n",
    "\n",
    "def quickSort(L: list) -> None:\n",
    "    partitionSort(L, 0, len(L)-1)\n"
   ]
  },
  {
   "cell_type": "code",
   "execution_count": 2,
   "metadata": {},
   "outputs": [
    {
     "name": "stdout",
     "output_type": "stream",
     "text": [
      "[10, 15, 40, 67, 80, 82, 82, 90, 95]\n"
     ]
    }
   ],
   "source": [
    "#print(quick_sort(test[:]))\n",
    "test = [15, 40, 10, 95, 80, 82, 90, 67, 82]\n",
    "quickSort(test)\n",
    "print(test)"
   ]
  },
  {
   "cell_type": "markdown",
   "metadata": {},
   "source": [
    "## Bubble Sort\n",
    "가장 큰 요소를 맨 뒤(n-1)로 보내고 다음 큰 요소를 n-2로 보내고"
   ]
  },
  {
   "cell_type": "code",
   "execution_count": 13,
   "metadata": {},
   "outputs": [],
   "source": [
    "def bubble(arr):\n",
    "    n = len(arr)\n",
    "    for i in range(n):\n",
    "        for idx in range(n-1-i):\n",
    "            if arr[idx] > arr[idx+1]:\n",
    "                arr[idx], arr[idx+1] = arr[idx+1], arr[idx]\n",
    "    return arr"
   ]
  },
  {
   "cell_type": "code",
   "execution_count": 14,
   "metadata": {},
   "outputs": [
    {
     "data": {
      "text/plain": "[10, 15, 40, 67, 80, 82, 82, 90, 95]"
     },
     "execution_count": 14,
     "metadata": {},
     "output_type": "execute_result"
    }
   ],
   "source": [
    "bubble(test[:])"
   ]
  },
  {
   "cell_type": "code",
   "execution_count": null,
   "metadata": {},
   "outputs": [],
   "source": []
  }
 ],
 "metadata": {
  "kernelspec": {
   "display_name": "Python 3.8.5 64-bit ('dl': conda)",
   "name": "python385jvsc74a57bd09114398d3377058e256d145c4f0a9a491a4d18df42e17efa052a1448852ae6e3"
  },
  "language_info": {
   "codemirror_mode": {
    "name": "ipython",
    "version": 3
   },
   "file_extension": ".py",
   "mimetype": "text/x-python",
   "name": "python",
   "nbconvert_exporter": "python",
   "pygments_lexer": "ipython3",
   "version": "3.8.5"
  },
  "orig_nbformat": 2
 },
 "nbformat": 4,
 "nbformat_minor": 2
}