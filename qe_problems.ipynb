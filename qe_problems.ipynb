{
 "cells": [
  {
   "cell_type": "markdown",
   "metadata": {},
   "source": [
    "## 중간고사 8번\n",
    "str s에서 첫번째 unique char의 index return"
   ]
  },
  {
   "cell_type": "code",
   "execution_count": 2,
   "metadata": {},
   "outputs": [],
   "source": [
    "def firstUniq(s:str):\n",
    "    # build counter\n",
    "    counter = dict()\n",
    "    for char in s:\n",
    "        if char not in counter: counter[char]=1\n",
    "        else: counter[char]+=1\n",
    "    # first char, whose val is 1\n",
    "    first_uniq = False\n",
    "    for char in counter:\n",
    "        if counter[char]==1:\n",
    "            first_uniq = char\n",
    "            break\n",
    "    if not first_uniq: return -1\n",
    "    # return idx of first char\n",
    "    for i in range(len(s)):\n",
    "        if s[i]==first_uniq: return i"
   ]
  },
  {
   "cell_type": "code",
   "execution_count": 5,
   "metadata": {},
   "outputs": [
    {
     "name": "stdout",
     "output_type": "stream",
     "text": [
      "4\n",
      "-1\n"
     ]
    }
   ],
   "source": [
    "t1 = 'llooveeprogram'\n",
    "t2 = 'kaakliil'\n",
    "\n",
    "print(firstUniq(t1))\n",
    "print(firstUniq(t2))"
   ]
  },
  {
   "cell_type": "markdown",
   "metadata": {},
   "source": [
    "## 중간고사 9번\n",
    "#가 backspace를 나타낼 때 str S와 T가 같은지 다른지: stack 활용"
   ]
  },
  {
   "cell_type": "code",
   "execution_count": 11,
   "metadata": {},
   "outputs": [],
   "source": [
    "def backspaceCompare(S:str, T:str) -> bool:\n",
    "\n",
    "    def check_sharp(str1):\n",
    "        stack = list()\n",
    "        for char in str1:\n",
    "            if char != '#':\n",
    "                stack.append(char)\n",
    "            else:\n",
    "                if stack: stack.pop()\n",
    "        return stack\n",
    "\n",
    "    return check_sharp(S) == check_sharp(T)\n",
    "    "
   ]
  },
  {
   "cell_type": "code",
   "execution_count": 12,
   "metadata": {},
   "outputs": [
    {
     "name": "stdout",
     "output_type": "stream",
     "text": [
      "True\n",
      "False\n",
      "True\n"
     ]
    }
   ],
   "source": [
    "t1_s, t1_t = 'ab#c', 'ad#c'\n",
    "t2_s, t2_t = 'a#c', 'b'\n",
    "t3_s, t3_t = 'a###b', 'cd##b'\n",
    "\n",
    "print(backspaceCompare(t1_s, t1_t))\n",
    "print(backspaceCompare(t2_s, t2_t))\n",
    "print(backspaceCompare(t3_s, t3_t))"
   ]
  },
  {
   "cell_type": "markdown",
   "metadata": {},
   "source": [
    "## 중간고사 10번\n",
    "M*N 리스트가 주어지고, 1은 땅, 0은 물일 때 섬의 개수 return\n",
    "1. visited map\n",
    "2. dfs_helper: m, n 이하 범위, world에서 땅, not visited에 대해 recurse\n",
    "3. world에서 땅, not visited인 지역을 root로 모든 지점에서 dfs_helper를 돌리고 한번 마칠 때마다 ans += 1"
   ]
  },
  {
   "cell_type": "code",
   "execution_count": 19,
   "metadata": {},
   "outputs": [],
   "source": [
    "from typing import List\n",
    "def NumWorld(world: List) -> int:\n",
    "    # m세로, n가로\n",
    "    m, n = len(world), len(world[0])\n",
    "    visited = [[False for i in range(n)] for j in range(m)]\n",
    "    \n",
    "    def dfs_helper(root_i, root_j):\n",
    "        # i: 세로, j: 가로\n",
    "        nonlocal world, visited, m, n\n",
    "        visited[root_i][root_j] = True\n",
    "        togo = [(root_i+1, root_j), (root_i-1, root_j), (root_i, root_j+1), (root_i, root_j-1)]\n",
    "        for loc in togo:\n",
    "            if 0<=loc[0]<m and 0<=loc[1]<n and not visited[loc[0]][loc[1]] and world[loc[0]][loc[1]]:\n",
    "                dfs_helper(loc[0], loc[1])\n",
    "    ans = 0\n",
    "    for i in range(m):\n",
    "        for j in range(n):\n",
    "            if not visited[i][j] and world[i][j]:\n",
    "                dfs_helper(i, j)\n",
    "                ans += 1\n",
    "\n",
    "    return ans\n"
   ]
  },
  {
   "cell_type": "code",
   "execution_count": 20,
   "metadata": {},
   "outputs": [
    {
     "name": "stdout",
     "output_type": "stream",
     "text": [
      "3\n"
     ]
    }
   ],
   "source": [
    "world = [[1,1,0,0,0],\n",
    "        [1,1,0,0,0],\n",
    "        [0,0,1,1,0],\n",
    "        [0,0,0,0,1]]\n",
    "\n",
    "print(NumWorld(world))"
   ]
  },
  {
   "cell_type": "code",
   "execution_count": null,
   "metadata": {},
   "outputs": [],
   "source": []
  }
 ],
 "metadata": {
  "kernelspec": {
   "display_name": "Python 3.8.5 64-bit ('dl': conda)",
   "name": "python385jvsc74a57bd09114398d3377058e256d145c4f0a9a491a4d18df42e17efa052a1448852ae6e3"
  },
  "language_info": {
   "codemirror_mode": {
    "name": "ipython",
    "version": 3
   },
   "file_extension": ".py",
   "mimetype": "text/x-python",
   "name": "python",
   "nbconvert_exporter": "python",
   "pygments_lexer": "ipython3",
   "version": "3.8.5"
  },
  "orig_nbformat": 2
 },
 "nbformat": 4,
 "nbformat_minor": 2
}