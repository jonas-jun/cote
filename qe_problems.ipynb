{
 "cells": [
  {
   "cell_type": "markdown",
   "metadata": {},
   "source": [
    "## 중간고사 8번\n",
    "str s에서 첫번째 unique char의 index return"
   ]
  },
  {
   "cell_type": "code",
   "execution_count": 2,
   "metadata": {},
   "outputs": [],
   "source": [
    "def firstUniq(s:str):\n",
    "    # build counter\n",
    "    counter = dict()\n",
    "    for char in s:\n",
    "        if char not in counter: counter[char]=1\n",
    "        else: counter[char]+=1\n",
    "    # first char, whose val is 1\n",
    "    first_uniq = False\n",
    "    for char in counter:\n",
    "        if counter[char]==1:\n",
    "            first_uniq = char\n",
    "            break\n",
    "    if not first_uniq: return -1\n",
    "    # return idx of first char\n",
    "    for i in range(len(s)):\n",
    "        if s[i]==first_uniq: return i"
   ]
  },
  {
   "cell_type": "code",
   "execution_count": 5,
   "metadata": {},
   "outputs": [
    {
     "name": "stdout",
     "output_type": "stream",
     "text": [
      "4\n",
      "-1\n"
     ]
    }
   ],
   "source": [
    "t1 = 'llooveeprogram'\n",
    "t2 = 'kaakliil'\n",
    "\n",
    "print(firstUniq(t1))\n",
    "print(firstUniq(t2))"
   ]
  },
  {
   "cell_type": "markdown",
   "metadata": {},
   "source": [
    "## 중간고사 9번\n",
    "- #이 backspace를 나타낼 때 str S와 T가 같은지 다른지: stack 활용"
   ]
  },
  {
   "cell_type": "code",
   "execution_count": 11,
   "metadata": {},
   "outputs": [],
   "source": [
    "def backspaceCompare(S:str, T:str) -> bool:\n",
    "\n",
    "    def check_sharp(str1):\n",
    "        stack = list()\n",
    "        for char in str1:\n",
    "            if char != '#':\n",
    "                stack.append(char)\n",
    "            else:\n",
    "                if stack: stack.pop()\n",
    "        return stack\n",
    "\n",
    "    return check_sharp(S) == check_sharp(T)\n",
    "    "
   ]
  },
  {
   "cell_type": "code",
   "execution_count": 12,
   "metadata": {},
   "outputs": [
    {
     "name": "stdout",
     "output_type": "stream",
     "text": [
      "True\n",
      "False\n",
      "True\n"
     ]
    }
   ],
   "source": [
    "t1_s, t1_t = 'ab#c', 'ad#c'\n",
    "t2_s, t2_t = 'a#c', 'b'\n",
    "t3_s, t3_t = 'a###b', 'cd##b'\n",
    "\n",
    "print(backspaceCompare(t1_s, t1_t))\n",
    "print(backspaceCompare(t2_s, t2_t))\n",
    "print(backspaceCompare(t3_s, t3_t))"
   ]
  },
  {
   "cell_type": "markdown",
   "metadata": {},
   "source": [
    "## 중간고사 10번\n",
    "M*N 리스트가 주어지고, 1은 땅, 0은 물일 때 섬의 개수 return\n",
    "1. visited map\n",
    "2. dfs_helper: m, n 이하 범위, world에서 땅, not visited에 대해 recurse\n",
    "3. world에서 땅, not visited인 지역을 root로 모든 지점에서 dfs_helper를 돌리고 한번 마칠 때마다 ans += 1"
   ]
  },
  {
   "cell_type": "code",
   "execution_count": 19,
   "metadata": {},
   "outputs": [],
   "source": [
    "from typing import List\n",
    "def NumWorld(world: List) -> int:\n",
    "    # m세로, n가로\n",
    "    m, n = len(world), len(world[0])\n",
    "    visited = [[False for i in range(n)] for j in range(m)]\n",
    "    \n",
    "    def dfs_helper(root_i, root_j):\n",
    "        # i: 세로, j: 가로\n",
    "        nonlocal world, visited, m, n\n",
    "        visited[root_i][root_j] = True\n",
    "        togo = [(root_i+1, root_j), (root_i-1, root_j), (root_i, root_j+1), (root_i, root_j-1)]\n",
    "        for loc in togo:\n",
    "            if 0<=loc[0]<m and 0<=loc[1]<n and not visited[loc[0]][loc[1]] and world[loc[0]][loc[1]]:\n",
    "                dfs_helper(loc[0], loc[1])\n",
    "    ans = 0\n",
    "    for i in range(m):\n",
    "        for j in range(n):\n",
    "            if not visited[i][j] and world[i][j]:\n",
    "                dfs_helper(i, j)\n",
    "                ans += 1\n",
    "\n",
    "    return ans\n"
   ]
  },
  {
   "cell_type": "code",
   "execution_count": 20,
   "metadata": {},
   "outputs": [
    {
     "name": "stdout",
     "output_type": "stream",
     "text": [
      "3\n"
     ]
    }
   ],
   "source": [
    "world = [[1,1,0,0,0],\n",
    "        [1,1,0,0,0],\n",
    "        [0,0,1,1,0],\n",
    "        [0,0,0,0,1]]\n",
    "\n",
    "print(NumWorld(world))"
   ]
  },
  {
   "cell_type": "markdown",
   "metadata": {},
   "source": [
    "## 프로젝트 2\n",
    "문제1. 경로 단순화  \n",
    "파일 경로를 입력받아 단순화된 경로를 반환하는 함수"
   ]
  },
  {
   "cell_type": "code",
   "execution_count": 32,
   "metadata": {},
   "outputs": [],
   "source": [
    "import re\n",
    "\n",
    "def P1(path: str):\n",
    "    '''\n",
    "    1. 모든 '//'를 '/'로 바꾼다.\n",
    "    2. '/'기준으로 split\n",
    "    3. stack을 만들어서 붙여주고, ..가 나오면 하나를 제거한다.(stack이 비어있지 않은 경우에만) .이 나오면 continue\n",
    "    4. 마지막에 '/'를 join하여 stack --> str을 만들고 앞에 '/'을 붙여서 return\n",
    "    '''\n",
    "\n",
    "    path = re.sub('//', '/', path)\n",
    "    path = path.split('/')\n",
    "    stack = list()\n",
    "    for p in path:\n",
    "        if not p: continue\n",
    "        if p == '.': continue\n",
    "        if p != '..':\n",
    "            stack.append(p)\n",
    "        else:\n",
    "            if stack: stack.pop()\n",
    "    return '/'+'/'.join(stack)"
   ]
  },
  {
   "cell_type": "code",
   "execution_count": 34,
   "metadata": {},
   "outputs": [
    {
     "name": "stdout",
     "output_type": "stream",
     "text": [
      "/home/foo\n",
      "/c\n"
     ]
    }
   ],
   "source": [
    "print(P1('/home//foo/'))\n",
    "print(P1('/a/./b/../../c/'))"
   ]
  },
  {
   "cell_type": "markdown",
   "metadata": {},
   "source": [
    "## 프로젝트3\n",
    "문제1. arr 원소들을 둘씩 짝지을 때 각 쌍의 합이 모두 k로 나눠떨어지도록 할 수 있는지? (O(n))"
   ]
  },
  {
   "cell_type": "code",
   "execution_count": 21,
   "metadata": {},
   "outputs": [],
   "source": [
    "from collections import defaultdict\n",
    "from typing import List\n",
    "\n",
    "def P1(nums: List, k: int):\n",
    "    if sum(nums)%k != 0: return False\n",
    "    \n",
    "    counter = defaultdict(lambda: 0)\n",
    "    for num in nums:\n",
    "        counter[num % k] += 1\n",
    "    if counter[0] % 2 != 0: return False\n",
    "    if k % 2 == 0:\n",
    "        if counter[k/2] % 2 != 0: return False\n",
    "        for i in range(1, k//2):\n",
    "            if counter[i] != counter[k-1]: return False\n",
    "    else:\n",
    "        for i in range(1, k//2+1):\n",
    "            if counter[i] != counter[k-i]: return False\n",
    "\n",
    "    return True"
   ]
  },
  {
   "cell_type": "code",
   "execution_count": 22,
   "metadata": {},
   "outputs": [
    {
     "name": "stdout",
     "output_type": "stream",
     "text": [
      "True\n",
      "True\n"
     ]
    }
   ],
   "source": [
    "test1 = [123, 36, 54, 28, 39, 28]\n",
    "test2 = [3,7,6,5,4,5]\n",
    "\n",
    "print(P1(test1, 2))\n",
    "print(P1(test2, 5))"
   ]
  },
  {
   "cell_type": "markdown",
   "metadata": {},
   "source": [
    "## 프로젝트3\n",
    "문제2. 0,1의 개수가 같은 부분 리스트 길이의 최대\n",
    "\n",
    "DP로 접근  \n",
    "앞글자와 같으면 0, 다르면 dp[i-2]+2\n"
   ]
  },
  {
   "cell_type": "code",
   "execution_count": 35,
   "metadata": {},
   "outputs": [],
   "source": [
    "def P2(nums: List):\n",
    "    dp = [0 for _ in range(len(nums))]\n",
    "    for i in range(1, len(nums)):\n",
    "        if nums[i] == nums[i-1]:\n",
    "            dp[i] = 0\n",
    "        else:\n",
    "            dp[i] = dp[i-2]+2\n",
    "    return max(dp)"
   ]
  },
  {
   "cell_type": "code",
   "execution_count": 36,
   "metadata": {},
   "outputs": [
    {
     "name": "stdout",
     "output_type": "stream",
     "text": [
      "4\n",
      "2\n"
     ]
    }
   ],
   "source": [
    "test1 = [1,1,0,1,0,1]\n",
    "test2 = [1,1,0,1,1,1]\n",
    "\n",
    "print(P2(test1))\n",
    "print(P2(test2))"
   ]
  },
  {
   "cell_type": "code",
   "execution_count": null,
   "metadata": {},
   "outputs": [],
   "source": []
  }
 ],
 "metadata": {
  "kernelspec": {
   "display_name": "Python 3.8.5 64-bit ('dl': conda)",
   "name": "python385jvsc74a57bd09114398d3377058e256d145c4f0a9a491a4d18df42e17efa052a1448852ae6e3"
  },
  "language_info": {
   "codemirror_mode": {
    "name": "ipython",
    "version": 3
   },
   "file_extension": ".py",
   "mimetype": "text/x-python",
   "name": "python",
   "nbconvert_exporter": "python",
   "pygments_lexer": "ipython3",
   "version": "3.8.5"
  },
  "orig_nbformat": 2
 },
 "nbformat": 4,
 "nbformat_minor": 2
}